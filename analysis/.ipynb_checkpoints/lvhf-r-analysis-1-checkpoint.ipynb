{
 "cells": [
  {
   "cell_type": "code",
   "execution_count": 2,
   "id": "beeae981-b891-497d-8650-58732885a3a3",
   "metadata": {},
   "outputs": [],
   "source": [
    "# test"
   ]
  },
  {
   "cell_type": "markdown",
   "id": "730e6720-2825-46af-b15f-1033c81d4554",
   "metadata": {},
   "source": [
    "# 1 Data Import and Pre-processing"
   ]
  },
  {
   "cell_type": "markdown",
   "id": "c8db3bb5-5e63-4669-9011-e77f86c8bc47",
   "metadata": {},
   "source": [
    "## 1.1 Data Import (GEOquery)"
   ]
  },
  {
   "cell_type": "code",
   "execution_count": 3,
   "id": "849c72d8-b261-47cf-9c0a-a6038d41d646",
   "metadata": {},
   "outputs": [
    {
     "name": "stderr",
     "output_type": "stream",
     "text": [
      "Loading required package: Biobase\n",
      "\n",
      "Loading required package: BiocGenerics\n",
      "\n",
      "\n",
      "Attaching package: 'BiocGenerics'\n",
      "\n",
      "\n",
      "The following object is masked from 'package:limma':\n",
      "\n",
      "    plotMA\n",
      "\n",
      "\n",
      "The following objects are masked from 'package:stats':\n",
      "\n",
      "    IQR, mad, sd, var, xtabs\n",
      "\n",
      "\n",
      "The following objects are masked from 'package:base':\n",
      "\n",
      "    anyDuplicated, aperm, append, as.data.frame, basename, cbind,\n",
      "    colnames, dirname, do.call, duplicated, eval, evalq, Filter, Find,\n",
      "    get, grep, grepl, intersect, is.unsorted, lapply, Map, mapply,\n",
      "    match, mget, order, paste, pmax, pmax.int, pmin, pmin.int,\n",
      "    Position, rank, rbind, Reduce, rownames, sapply, setdiff, sort,\n",
      "    table, tapply, union, unique, unsplit, which.max, which.min\n",
      "\n",
      "\n",
      "Welcome to Bioconductor\n",
      "\n",
      "    Vignettes contain introductory material; view with\n",
      "    'browseVignettes()'. To cite Bioconductor, see\n",
      "    'citation(\"Biobase\")', and for packages 'citation(\"pkgname\")'.\n",
      "\n",
      "\n",
      "Setting options('download.file.method.GEOquery'='auto')\n",
      "\n",
      "Setting options('GEOquery.inmemory.gpl'=FALSE)\n",
      "\n"
     ]
    }
   ],
   "source": [
    "# packages\n",
    "library(\"GEOquery\")"
   ]
  },
  {
   "cell_type": "code",
   "execution_count": 4,
   "id": "0e12382b-bb62-4f3e-9e2f-70018e81615f",
   "metadata": {},
   "outputs": [
    {
     "name": "stderr",
     "output_type": "stream",
     "text": [
      "Found 1 file(s)\n",
      "\n",
      "GSE57338_series_matrix.txt.gz\n",
      "\n",
      "Found 1 file(s)\n",
      "\n",
      "GSE6398_series_matrix.txt.gz\n",
      "\n",
      "Found 1 file(s)\n",
      "\n",
      "GSE11015_series_matrix.txt.gz\n",
      "\n",
      "Found 1 file(s)\n",
      "\n",
      "GSE116250_series_matrix.txt.gz\n",
      "\n",
      "Found 1 file(s)\n",
      "\n",
      "GSE154603_series_matrix.txt.gz\n",
      "\n"
     ]
    }
   ],
   "source": [
    "# Import microarray datasets\n",
    "GSE57338 <- getGEO(\"GSE57338\", GSEMatrix =TRUE, getGPL=FALSE)[[1]]\n",
    "GSE6398 <- getGEO(\"GSE6398\", GSEMatrix =TRUE, getGPL=FALSE)[[1]]\n",
    "GSE11015 <- getGEO(\"GSE11015\", GSEMatrix =TRUE, getGPL=FALSE)[[1]]\n",
    "\n",
    "# Import RNA-seq datasets\n",
    "GSE116250 <- getGEO(\"GSE116250\", GSEMatrix =TRUE, getGPL=FALSE)[[1]]\n",
    "GSE154603 <- getGEO(\"GSE154603\", GSEMatrix =TRUE, getGPL=FALSE)[[1]]"
   ]
  },
  {
   "cell_type": "markdown",
   "id": "dbad41e9-4895-45cd-80f1-91b3467e763e",
   "metadata": {},
   "source": [
    "## 1.2 Data Explore"
   ]
  },
  {
   "cell_type": "code",
   "execution_count": 7,
   "id": "887312d0-f170-45ce-92f1-d67ffb72a739",
   "metadata": {},
   "outputs": [
    {
     "data": {
      "text/plain": [
       "       Length         Class          Mode \n",
       "            1 ExpressionSet            S4 "
      ]
     },
     "metadata": {},
     "output_type": "display_data"
    }
   ],
   "source": [
    "summary(GSE57338)"
   ]
  },
  {
   "cell_type": "code",
   "execution_count": 8,
   "id": "dd9da985-ca13-4d9d-a779-42a24ea3a707",
   "metadata": {},
   "outputs": [
    {
     "data": {
      "text/html": [
       "<style>\n",
       ".dl-inline {width: auto; margin:0; padding: 0}\n",
       ".dl-inline>dt, .dl-inline>dd {float: none; width: auto; display: inline-block}\n",
       ".dl-inline>dt::after {content: \":\\0020\"; padding-right: .5ex}\n",
       ".dl-inline>dt:not(:first-of-type) {padding-left: .5ex}\n",
       "</style><dl class=dl-inline><dt>Features</dt><dd>33297</dd><dt>Samples</dt><dd>313</dd></dl>\n"
      ],
      "text/latex": [
       "\\begin{description*}\n",
       "\\item[Features] 33297\n",
       "\\item[Samples] 313\n",
       "\\end{description*}\n"
      ],
      "text/markdown": [
       "Features\n",
       ":   33297Samples\n",
       ":   313\n",
       "\n"
      ],
      "text/plain": [
       "Features  Samples \n",
       "   33297      313 "
      ]
     },
     "metadata": {},
     "output_type": "display_data"
    }
   ],
   "source": [
    "dim(GSE57338)"
   ]
  },
  {
   "cell_type": "code",
   "execution_count": 9,
   "id": "424ab29e-1a07-4a19-a5e1-75f096151ad1",
   "metadata": {},
   "outputs": [
    {
     "data": {
      "text/html": [
       "<style>\n",
       ".list-inline {list-style: none; margin:0; padding: 0}\n",
       ".list-inline>li {display: inline-block}\n",
       ".list-inline>li:not(:last-child)::after {content: \"\\00b7\"; padding: 0 .5ex}\n",
       "</style>\n",
       "<ol class=list-inline><li>'GSM1379812'</li><li>'GSM1379813'</li><li>'GSM1379814'</li><li>'GSM1379815'</li><li>'GSM1379816'</li><li>'GSM1379817'</li></ol>\n"
      ],
      "text/latex": [
       "\\begin{enumerate*}\n",
       "\\item 'GSM1379812'\n",
       "\\item 'GSM1379813'\n",
       "\\item 'GSM1379814'\n",
       "\\item 'GSM1379815'\n",
       "\\item 'GSM1379816'\n",
       "\\item 'GSM1379817'\n",
       "\\end{enumerate*}\n"
      ],
      "text/markdown": [
       "1. 'GSM1379812'\n",
       "2. 'GSM1379813'\n",
       "3. 'GSM1379814'\n",
       "4. 'GSM1379815'\n",
       "5. 'GSM1379816'\n",
       "6. 'GSM1379817'\n",
       "\n",
       "\n"
      ],
      "text/plain": [
       "[1] \"GSM1379812\" \"GSM1379813\" \"GSM1379814\" \"GSM1379815\" \"GSM1379816\"\n",
       "[6] \"GSM1379817\""
      ]
     },
     "metadata": {},
     "output_type": "display_data"
    },
    {
     "data": {
      "text/html": [
       "<style>\n",
       ".list-inline {list-style: none; margin:0; padding: 0}\n",
       ".list-inline>li {display: inline-block}\n",
       ".list-inline>li:not(:last-child)::after {content: \"\\00b7\"; padding: 0 .5ex}\n",
       "</style>\n",
       "<ol class=list-inline><li>'7892501'</li><li>'7892502'</li><li>'7892503'</li><li>'7892504'</li><li>'7892505'</li><li>'7892506'</li></ol>\n"
      ],
      "text/latex": [
       "\\begin{enumerate*}\n",
       "\\item '7892501'\n",
       "\\item '7892502'\n",
       "\\item '7892503'\n",
       "\\item '7892504'\n",
       "\\item '7892505'\n",
       "\\item '7892506'\n",
       "\\end{enumerate*}\n"
      ],
      "text/markdown": [
       "1. '7892501'\n",
       "2. '7892502'\n",
       "3. '7892503'\n",
       "4. '7892504'\n",
       "5. '7892505'\n",
       "6. '7892506'\n",
       "\n",
       "\n"
      ],
      "text/plain": [
       "[1] \"7892501\" \"7892502\" \"7892503\" \"7892504\" \"7892505\" \"7892506\""
      ]
     },
     "metadata": {},
     "output_type": "display_data"
    }
   ],
   "source": [
    "head(colnames(exprs(GSE57338)))\n",
    "head(rownames(exprs(GSE57338)))"
   ]
  },
  {
   "cell_type": "markdown",
   "id": "a5d65bc6-52fa-49cf-9efa-9f200d13fddd",
   "metadata": {},
   "source": [
    "Use the exprs() function to access the expression matrix and then use head() to look at the first few rows."
   ]
  },
  {
   "cell_type": "code",
   "execution_count": 10,
   "id": "78e64fff-862a-4ce6-8e96-38313bd8a8d2",
   "metadata": {},
   "outputs": [
    {
     "data": {
      "text/html": [
       "<table class=\"dataframe\">\n",
       "<caption>A matrix: 6 × 313 of type dbl</caption>\n",
       "<thead>\n",
       "\t<tr><th></th><th scope=col>GSM1379812</th><th scope=col>GSM1379813</th><th scope=col>GSM1379814</th><th scope=col>GSM1379815</th><th scope=col>GSM1379816</th><th scope=col>GSM1379817</th><th scope=col>GSM1379818</th><th scope=col>GSM1379819</th><th scope=col>GSM1379820</th><th scope=col>GSM1379821</th><th scope=col>⋯</th><th scope=col>GSM1380115</th><th scope=col>GSM1380116</th><th scope=col>GSM1380117</th><th scope=col>GSM1380118</th><th scope=col>GSM1380119</th><th scope=col>GSM1380120</th><th scope=col>GSM1380121</th><th scope=col>GSM1380122</th><th scope=col>GSM1380123</th><th scope=col>GSM1380124</th></tr>\n",
       "</thead>\n",
       "<tbody>\n",
       "\t<tr><th scope=row>7892501</th><td>2.993790</td><td>2.841998</td><td>2.600129</td><td>3.805218</td><td>4.076932</td><td>2.377969</td><td>2.154369</td><td>3.257183</td><td>2.038035</td><td>2.660571</td><td>⋯</td><td>3.871552</td><td>2.817772</td><td>2.339675</td><td>2.437401</td><td>2.959741</td><td>2.724579</td><td>3.658542</td><td>2.453237</td><td>4.714480</td><td>3.205431</td></tr>\n",
       "\t<tr><th scope=row>7892502</th><td>3.435326</td><td>3.824364</td><td>3.903936</td><td>4.146113</td><td>4.072751</td><td>3.529349</td><td>3.875927</td><td>3.185816</td><td>3.540373</td><td>3.688432</td><td>⋯</td><td>3.975056</td><td>3.751723</td><td>4.123294</td><td>3.845755</td><td>3.635641</td><td>3.934634</td><td>3.568612</td><td>3.890595</td><td>4.498764</td><td>3.556142</td></tr>\n",
       "\t<tr><th scope=row>7892503</th><td>4.924454</td><td>3.163697</td><td>2.564389</td><td>2.952874</td><td>4.763845</td><td>2.653743</td><td>2.896589</td><td>2.547090</td><td>3.121390</td><td>2.897141</td><td>⋯</td><td>2.149090</td><td>2.837280</td><td>2.221960</td><td>2.286340</td><td>2.231021</td><td>2.447689</td><td>1.932867</td><td>3.349565</td><td>2.706478</td><td>3.674404</td></tr>\n",
       "\t<tr><th scope=row>7892504</th><td>7.778150</td><td>7.261272</td><td>7.461865</td><td>6.927367</td><td>7.328963</td><td>6.988387</td><td>6.747520</td><td>6.655507</td><td>7.280219</td><td>7.852450</td><td>⋯</td><td>7.073246</td><td>7.392012</td><td>7.422890</td><td>6.926447</td><td>6.827589</td><td>7.236947</td><td>7.124870</td><td>7.335299</td><td>7.619274</td><td>7.545193</td></tr>\n",
       "\t<tr><th scope=row>7892505</th><td>2.898823</td><td>2.910810</td><td>3.325639</td><td>2.447956</td><td>2.601703</td><td>2.440410</td><td>2.518689</td><td>2.176914</td><td>2.248118</td><td>3.017267</td><td>⋯</td><td>1.932433</td><td>2.823716</td><td>1.794539</td><td>2.281263</td><td>2.828203</td><td>4.195824</td><td>2.568024</td><td>2.094302</td><td>2.584170</td><td>2.293841</td></tr>\n",
       "\t<tr><th scope=row>7892506</th><td>3.439576</td><td>2.987408</td><td>2.525839</td><td>3.638968</td><td>2.519771</td><td>2.787429</td><td>2.686877</td><td>3.435481</td><td>3.173874</td><td>3.253850</td><td>⋯</td><td>4.235294</td><td>4.347229</td><td>3.353374</td><td>2.997087</td><td>3.876520</td><td>3.371321</td><td>3.587195</td><td>3.109415</td><td>3.151824</td><td>4.023627</td></tr>\n",
       "</tbody>\n",
       "</table>\n"
      ],
      "text/latex": [
       "A matrix: 6 × 313 of type dbl\n",
       "\\begin{tabular}{r|lllllllllllllllllllll}\n",
       "  & GSM1379812 & GSM1379813 & GSM1379814 & GSM1379815 & GSM1379816 & GSM1379817 & GSM1379818 & GSM1379819 & GSM1379820 & GSM1379821 & ⋯ & GSM1380115 & GSM1380116 & GSM1380117 & GSM1380118 & GSM1380119 & GSM1380120 & GSM1380121 & GSM1380122 & GSM1380123 & GSM1380124\\\\\n",
       "\\hline\n",
       "\t7892501 & 2.993790 & 2.841998 & 2.600129 & 3.805218 & 4.076932 & 2.377969 & 2.154369 & 3.257183 & 2.038035 & 2.660571 & ⋯ & 3.871552 & 2.817772 & 2.339675 & 2.437401 & 2.959741 & 2.724579 & 3.658542 & 2.453237 & 4.714480 & 3.205431\\\\\n",
       "\t7892502 & 3.435326 & 3.824364 & 3.903936 & 4.146113 & 4.072751 & 3.529349 & 3.875927 & 3.185816 & 3.540373 & 3.688432 & ⋯ & 3.975056 & 3.751723 & 4.123294 & 3.845755 & 3.635641 & 3.934634 & 3.568612 & 3.890595 & 4.498764 & 3.556142\\\\\n",
       "\t7892503 & 4.924454 & 3.163697 & 2.564389 & 2.952874 & 4.763845 & 2.653743 & 2.896589 & 2.547090 & 3.121390 & 2.897141 & ⋯ & 2.149090 & 2.837280 & 2.221960 & 2.286340 & 2.231021 & 2.447689 & 1.932867 & 3.349565 & 2.706478 & 3.674404\\\\\n",
       "\t7892504 & 7.778150 & 7.261272 & 7.461865 & 6.927367 & 7.328963 & 6.988387 & 6.747520 & 6.655507 & 7.280219 & 7.852450 & ⋯ & 7.073246 & 7.392012 & 7.422890 & 6.926447 & 6.827589 & 7.236947 & 7.124870 & 7.335299 & 7.619274 & 7.545193\\\\\n",
       "\t7892505 & 2.898823 & 2.910810 & 3.325639 & 2.447956 & 2.601703 & 2.440410 & 2.518689 & 2.176914 & 2.248118 & 3.017267 & ⋯ & 1.932433 & 2.823716 & 1.794539 & 2.281263 & 2.828203 & 4.195824 & 2.568024 & 2.094302 & 2.584170 & 2.293841\\\\\n",
       "\t7892506 & 3.439576 & 2.987408 & 2.525839 & 3.638968 & 2.519771 & 2.787429 & 2.686877 & 3.435481 & 3.173874 & 3.253850 & ⋯ & 4.235294 & 4.347229 & 3.353374 & 2.997087 & 3.876520 & 3.371321 & 3.587195 & 3.109415 & 3.151824 & 4.023627\\\\\n",
       "\\end{tabular}\n"
      ],
      "text/markdown": [
       "\n",
       "A matrix: 6 × 313 of type dbl\n",
       "\n",
       "| <!--/--> | GSM1379812 | GSM1379813 | GSM1379814 | GSM1379815 | GSM1379816 | GSM1379817 | GSM1379818 | GSM1379819 | GSM1379820 | GSM1379821 | ⋯ | GSM1380115 | GSM1380116 | GSM1380117 | GSM1380118 | GSM1380119 | GSM1380120 | GSM1380121 | GSM1380122 | GSM1380123 | GSM1380124 |\n",
       "|---|---|---|---|---|---|---|---|---|---|---|---|---|---|---|---|---|---|---|---|---|---|\n",
       "| 7892501 | 2.993790 | 2.841998 | 2.600129 | 3.805218 | 4.076932 | 2.377969 | 2.154369 | 3.257183 | 2.038035 | 2.660571 | ⋯ | 3.871552 | 2.817772 | 2.339675 | 2.437401 | 2.959741 | 2.724579 | 3.658542 | 2.453237 | 4.714480 | 3.205431 |\n",
       "| 7892502 | 3.435326 | 3.824364 | 3.903936 | 4.146113 | 4.072751 | 3.529349 | 3.875927 | 3.185816 | 3.540373 | 3.688432 | ⋯ | 3.975056 | 3.751723 | 4.123294 | 3.845755 | 3.635641 | 3.934634 | 3.568612 | 3.890595 | 4.498764 | 3.556142 |\n",
       "| 7892503 | 4.924454 | 3.163697 | 2.564389 | 2.952874 | 4.763845 | 2.653743 | 2.896589 | 2.547090 | 3.121390 | 2.897141 | ⋯ | 2.149090 | 2.837280 | 2.221960 | 2.286340 | 2.231021 | 2.447689 | 1.932867 | 3.349565 | 2.706478 | 3.674404 |\n",
       "| 7892504 | 7.778150 | 7.261272 | 7.461865 | 6.927367 | 7.328963 | 6.988387 | 6.747520 | 6.655507 | 7.280219 | 7.852450 | ⋯ | 7.073246 | 7.392012 | 7.422890 | 6.926447 | 6.827589 | 7.236947 | 7.124870 | 7.335299 | 7.619274 | 7.545193 |\n",
       "| 7892505 | 2.898823 | 2.910810 | 3.325639 | 2.447956 | 2.601703 | 2.440410 | 2.518689 | 2.176914 | 2.248118 | 3.017267 | ⋯ | 1.932433 | 2.823716 | 1.794539 | 2.281263 | 2.828203 | 4.195824 | 2.568024 | 2.094302 | 2.584170 | 2.293841 |\n",
       "| 7892506 | 3.439576 | 2.987408 | 2.525839 | 3.638968 | 2.519771 | 2.787429 | 2.686877 | 3.435481 | 3.173874 | 3.253850 | ⋯ | 4.235294 | 4.347229 | 3.353374 | 2.997087 | 3.876520 | 3.371321 | 3.587195 | 3.109415 | 3.151824 | 4.023627 |\n",
       "\n"
      ],
      "text/plain": [
       "        GSM1379812 GSM1379813 GSM1379814 GSM1379815 GSM1379816 GSM1379817\n",
       "7892501 2.993790   2.841998   2.600129   3.805218   4.076932   2.377969  \n",
       "7892502 3.435326   3.824364   3.903936   4.146113   4.072751   3.529349  \n",
       "7892503 4.924454   3.163697   2.564389   2.952874   4.763845   2.653743  \n",
       "7892504 7.778150   7.261272   7.461865   6.927367   7.328963   6.988387  \n",
       "7892505 2.898823   2.910810   3.325639   2.447956   2.601703   2.440410  \n",
       "7892506 3.439576   2.987408   2.525839   3.638968   2.519771   2.787429  \n",
       "        GSM1379818 GSM1379819 GSM1379820 GSM1379821 ⋯ GSM1380115 GSM1380116\n",
       "7892501 2.154369   3.257183   2.038035   2.660571   ⋯ 3.871552   2.817772  \n",
       "7892502 3.875927   3.185816   3.540373   3.688432   ⋯ 3.975056   3.751723  \n",
       "7892503 2.896589   2.547090   3.121390   2.897141   ⋯ 2.149090   2.837280  \n",
       "7892504 6.747520   6.655507   7.280219   7.852450   ⋯ 7.073246   7.392012  \n",
       "7892505 2.518689   2.176914   2.248118   3.017267   ⋯ 1.932433   2.823716  \n",
       "7892506 2.686877   3.435481   3.173874   3.253850   ⋯ 4.235294   4.347229  \n",
       "        GSM1380117 GSM1380118 GSM1380119 GSM1380120 GSM1380121 GSM1380122\n",
       "7892501 2.339675   2.437401   2.959741   2.724579   3.658542   2.453237  \n",
       "7892502 4.123294   3.845755   3.635641   3.934634   3.568612   3.890595  \n",
       "7892503 2.221960   2.286340   2.231021   2.447689   1.932867   3.349565  \n",
       "7892504 7.422890   6.926447   6.827589   7.236947   7.124870   7.335299  \n",
       "7892505 1.794539   2.281263   2.828203   4.195824   2.568024   2.094302  \n",
       "7892506 3.353374   2.997087   3.876520   3.371321   3.587195   3.109415  \n",
       "        GSM1380123 GSM1380124\n",
       "7892501 4.714480   3.205431  \n",
       "7892502 4.498764   3.556142  \n",
       "7892503 2.706478   3.674404  \n",
       "7892504 7.619274   7.545193  \n",
       "7892505 2.584170   2.293841  \n",
       "7892506 3.151824   4.023627  "
      ]
     },
     "metadata": {},
     "output_type": "display_data"
    }
   ],
   "source": [
    "# Viewing Expression Data\n",
    "head(exprs(GSE57338))"
   ]
  },
  {
   "cell_type": "markdown",
   "id": "77e9b89e-1c53-4f05-aab7-9d7266e35007",
   "metadata": {},
   "source": [
    "Phenotype Data\n",
    "Phenotype data or sample metadata can be accessed using the pData() function. This data includes information about the samples, such as experimental conditions, which is crucial for analysis."
   ]
  },
  {
   "cell_type": "code",
   "execution_count": 11,
   "id": "9bc35b86-03db-405d-9c8a-e0f9d3d129c2",
   "metadata": {},
   "outputs": [
    {
     "data": {
      "text/html": [
       "<table class=\"dataframe\">\n",
       "<caption>A data.frame: 6 × 44</caption>\n",
       "<thead>\n",
       "\t<tr><th></th><th scope=col>title</th><th scope=col>geo_accession</th><th scope=col>status</th><th scope=col>submission_date</th><th scope=col>last_update_date</th><th scope=col>type</th><th scope=col>channel_count</th><th scope=col>source_name_ch1</th><th scope=col>organism_ch1</th><th scope=col>characteristics_ch1</th><th scope=col>⋯</th><th scope=col>contact_state</th><th scope=col>contact_zip/postal_code</th><th scope=col>contact_country</th><th scope=col>supplementary_file</th><th scope=col>data_row_count</th><th scope=col>age:ch1</th><th scope=col>disease status:ch1</th><th scope=col>gender:ch1</th><th scope=col>heart failure:ch1</th><th scope=col>tissue:ch1</th></tr>\n",
       "\t<tr><th></th><th scope=col>&lt;chr&gt;</th><th scope=col>&lt;chr&gt;</th><th scope=col>&lt;chr&gt;</th><th scope=col>&lt;chr&gt;</th><th scope=col>&lt;chr&gt;</th><th scope=col>&lt;chr&gt;</th><th scope=col>&lt;chr&gt;</th><th scope=col>&lt;chr&gt;</th><th scope=col>&lt;chr&gt;</th><th scope=col>&lt;chr&gt;</th><th scope=col>⋯</th><th scope=col>&lt;chr&gt;</th><th scope=col>&lt;chr&gt;</th><th scope=col>&lt;chr&gt;</th><th scope=col>&lt;chr&gt;</th><th scope=col>&lt;chr&gt;</th><th scope=col>&lt;chr&gt;</th><th scope=col>&lt;chr&gt;</th><th scope=col>&lt;chr&gt;</th><th scope=col>&lt;chr&gt;</th><th scope=col>&lt;chr&gt;</th></tr>\n",
       "</thead>\n",
       "<tbody>\n",
       "\t<tr><th scope=row>GSM1379812</th><td>C02065 Idiopathic Dilated CMP Left Ventricle</td><td>GSM1379812</td><td>Public on Jan 01 2015</td><td>May 06 2014</td><td>Jan 01 2015</td><td>RNA</td><td>1</td><td>heart left ventricle, idiopathic dilated CMP</td><td>Homo sapiens</td><td>tissue: heart left ventricle</td><td>⋯</td><td>PA</td><td>19104</td><td>USA</td><td>ftp://ftp.ncbi.nlm.nih.gov/geo/samples/GSM1379nnn/GSM1379812/suppl/GSM1379812_C02065_HuGene1.1ST.CEL.gz</td><td>33297</td><td>56</td><td>idiopathic dilated CMP</td><td>male  </td><td>yes</td><td>heart left ventricle</td></tr>\n",
       "\t<tr><th scope=row>GSM1379813</th><td>C02066 Ischemic Left Ventricle              </td><td>GSM1379813</td><td>Public on Jan 01 2015</td><td>May 06 2014</td><td>Jan 01 2015</td><td>RNA</td><td>1</td><td>heart left ventricle, ischemic              </td><td>Homo sapiens</td><td>tissue: heart left ventricle</td><td>⋯</td><td>PA</td><td>19104</td><td>USA</td><td>ftp://ftp.ncbi.nlm.nih.gov/geo/samples/GSM1379nnn/GSM1379813/suppl/GSM1379813_C02066_HuGene1.1ST.CEL.gz</td><td>33297</td><td>62</td><td>ischemic              </td><td>female</td><td>yes</td><td>heart left ventricle</td></tr>\n",
       "\t<tr><th scope=row>GSM1379814</th><td>C02070 Ischemic Left Ventricle              </td><td>GSM1379814</td><td>Public on Jan 01 2015</td><td>May 06 2014</td><td>Jan 01 2015</td><td>RNA</td><td>1</td><td>heart left ventricle, ischemic              </td><td>Homo sapiens</td><td>tissue: heart left ventricle</td><td>⋯</td><td>PA</td><td>19104</td><td>USA</td><td>ftp://ftp.ncbi.nlm.nih.gov/geo/samples/GSM1379nnn/GSM1379814/suppl/GSM1379814_C02070_HuGene1.1ST.CEL.gz</td><td>33297</td><td>62</td><td>ischemic              </td><td>male  </td><td>yes</td><td>heart left ventricle</td></tr>\n",
       "\t<tr><th scope=row>GSM1379815</th><td>C02071 Ischemic Left Ventricle              </td><td>GSM1379815</td><td>Public on Jan 01 2015</td><td>May 06 2014</td><td>Jan 01 2015</td><td>RNA</td><td>1</td><td>heart left ventricle, ischemic              </td><td>Homo sapiens</td><td>tissue: heart left ventricle</td><td>⋯</td><td>PA</td><td>19104</td><td>USA</td><td>ftp://ftp.ncbi.nlm.nih.gov/geo/samples/GSM1379nnn/GSM1379815/suppl/GSM1379815_C02071_HuGene1.1ST.CEL.gz</td><td>33297</td><td>51</td><td>ischemic              </td><td>male  </td><td>yes</td><td>heart left ventricle</td></tr>\n",
       "\t<tr><th scope=row>GSM1379816</th><td>C02085 Idiopathic Dilated CMP Left Ventricle</td><td>GSM1379816</td><td>Public on Jan 01 2015</td><td>May 06 2014</td><td>Jan 01 2015</td><td>RNA</td><td>1</td><td>heart left ventricle, idiopathic dilated CMP</td><td>Homo sapiens</td><td>tissue: heart left ventricle</td><td>⋯</td><td>PA</td><td>19104</td><td>USA</td><td>ftp://ftp.ncbi.nlm.nih.gov/geo/samples/GSM1379nnn/GSM1379816/suppl/GSM1379816_C02085_HuGene1.1ST.CEL.gz</td><td>33297</td><td>51</td><td>idiopathic dilated CMP</td><td>male  </td><td>yes</td><td>heart left ventricle</td></tr>\n",
       "\t<tr><th scope=row>GSM1379817</th><td>C02086 Idiopathic Dilated CMP Left Ventricle</td><td>GSM1379817</td><td>Public on Jan 01 2015</td><td>May 06 2014</td><td>Jan 01 2015</td><td>RNA</td><td>1</td><td>heart left ventricle, idiopathic dilated CMP</td><td>Homo sapiens</td><td>tissue: heart left ventricle</td><td>⋯</td><td>PA</td><td>19104</td><td>USA</td><td>ftp://ftp.ncbi.nlm.nih.gov/geo/samples/GSM1379nnn/GSM1379817/suppl/GSM1379817_C02086_HuGene1.1ST.CEL.gz</td><td>33297</td><td>32</td><td>idiopathic dilated CMP</td><td>male  </td><td>yes</td><td>heart left ventricle</td></tr>\n",
       "</tbody>\n",
       "</table>\n"
      ],
      "text/latex": [
       "A data.frame: 6 × 44\n",
       "\\begin{tabular}{r|lllllllllllllllllllll}\n",
       "  & title & geo\\_accession & status & submission\\_date & last\\_update\\_date & type & channel\\_count & source\\_name\\_ch1 & organism\\_ch1 & characteristics\\_ch1 & ⋯ & contact\\_state & contact\\_zip/postal\\_code & contact\\_country & supplementary\\_file & data\\_row\\_count & age:ch1 & disease status:ch1 & gender:ch1 & heart failure:ch1 & tissue:ch1\\\\\n",
       "  & <chr> & <chr> & <chr> & <chr> & <chr> & <chr> & <chr> & <chr> & <chr> & <chr> & ⋯ & <chr> & <chr> & <chr> & <chr> & <chr> & <chr> & <chr> & <chr> & <chr> & <chr>\\\\\n",
       "\\hline\n",
       "\tGSM1379812 & C02065 Idiopathic Dilated CMP Left Ventricle & GSM1379812 & Public on Jan 01 2015 & May 06 2014 & Jan 01 2015 & RNA & 1 & heart left ventricle, idiopathic dilated CMP & Homo sapiens & tissue: heart left ventricle & ⋯ & PA & 19104 & USA & ftp://ftp.ncbi.nlm.nih.gov/geo/samples/GSM1379nnn/GSM1379812/suppl/GSM1379812\\_C02065\\_HuGene1.1ST.CEL.gz & 33297 & 56 & idiopathic dilated CMP & male   & yes & heart left ventricle\\\\\n",
       "\tGSM1379813 & C02066 Ischemic Left Ventricle               & GSM1379813 & Public on Jan 01 2015 & May 06 2014 & Jan 01 2015 & RNA & 1 & heart left ventricle, ischemic               & Homo sapiens & tissue: heart left ventricle & ⋯ & PA & 19104 & USA & ftp://ftp.ncbi.nlm.nih.gov/geo/samples/GSM1379nnn/GSM1379813/suppl/GSM1379813\\_C02066\\_HuGene1.1ST.CEL.gz & 33297 & 62 & ischemic               & female & yes & heart left ventricle\\\\\n",
       "\tGSM1379814 & C02070 Ischemic Left Ventricle               & GSM1379814 & Public on Jan 01 2015 & May 06 2014 & Jan 01 2015 & RNA & 1 & heart left ventricle, ischemic               & Homo sapiens & tissue: heart left ventricle & ⋯ & PA & 19104 & USA & ftp://ftp.ncbi.nlm.nih.gov/geo/samples/GSM1379nnn/GSM1379814/suppl/GSM1379814\\_C02070\\_HuGene1.1ST.CEL.gz & 33297 & 62 & ischemic               & male   & yes & heart left ventricle\\\\\n",
       "\tGSM1379815 & C02071 Ischemic Left Ventricle               & GSM1379815 & Public on Jan 01 2015 & May 06 2014 & Jan 01 2015 & RNA & 1 & heart left ventricle, ischemic               & Homo sapiens & tissue: heart left ventricle & ⋯ & PA & 19104 & USA & ftp://ftp.ncbi.nlm.nih.gov/geo/samples/GSM1379nnn/GSM1379815/suppl/GSM1379815\\_C02071\\_HuGene1.1ST.CEL.gz & 33297 & 51 & ischemic               & male   & yes & heart left ventricle\\\\\n",
       "\tGSM1379816 & C02085 Idiopathic Dilated CMP Left Ventricle & GSM1379816 & Public on Jan 01 2015 & May 06 2014 & Jan 01 2015 & RNA & 1 & heart left ventricle, idiopathic dilated CMP & Homo sapiens & tissue: heart left ventricle & ⋯ & PA & 19104 & USA & ftp://ftp.ncbi.nlm.nih.gov/geo/samples/GSM1379nnn/GSM1379816/suppl/GSM1379816\\_C02085\\_HuGene1.1ST.CEL.gz & 33297 & 51 & idiopathic dilated CMP & male   & yes & heart left ventricle\\\\\n",
       "\tGSM1379817 & C02086 Idiopathic Dilated CMP Left Ventricle & GSM1379817 & Public on Jan 01 2015 & May 06 2014 & Jan 01 2015 & RNA & 1 & heart left ventricle, idiopathic dilated CMP & Homo sapiens & tissue: heart left ventricle & ⋯ & PA & 19104 & USA & ftp://ftp.ncbi.nlm.nih.gov/geo/samples/GSM1379nnn/GSM1379817/suppl/GSM1379817\\_C02086\\_HuGene1.1ST.CEL.gz & 33297 & 32 & idiopathic dilated CMP & male   & yes & heart left ventricle\\\\\n",
       "\\end{tabular}\n"
      ],
      "text/markdown": [
       "\n",
       "A data.frame: 6 × 44\n",
       "\n",
       "| <!--/--> | title &lt;chr&gt; | geo_accession &lt;chr&gt; | status &lt;chr&gt; | submission_date &lt;chr&gt; | last_update_date &lt;chr&gt; | type &lt;chr&gt; | channel_count &lt;chr&gt; | source_name_ch1 &lt;chr&gt; | organism_ch1 &lt;chr&gt; | characteristics_ch1 &lt;chr&gt; | ⋯ ⋯ | contact_state &lt;chr&gt; | contact_zip/postal_code &lt;chr&gt; | contact_country &lt;chr&gt; | supplementary_file &lt;chr&gt; | data_row_count &lt;chr&gt; | age:ch1 &lt;chr&gt; | disease status:ch1 &lt;chr&gt; | gender:ch1 &lt;chr&gt; | heart failure:ch1 &lt;chr&gt; | tissue:ch1 &lt;chr&gt; |\n",
       "|---|---|---|---|---|---|---|---|---|---|---|---|---|---|---|---|---|---|---|---|---|---|\n",
       "| GSM1379812 | C02065 Idiopathic Dilated CMP Left Ventricle | GSM1379812 | Public on Jan 01 2015 | May 06 2014 | Jan 01 2015 | RNA | 1 | heart left ventricle, idiopathic dilated CMP | Homo sapiens | tissue: heart left ventricle | ⋯ | PA | 19104 | USA | ftp://ftp.ncbi.nlm.nih.gov/geo/samples/GSM1379nnn/GSM1379812/suppl/GSM1379812_C02065_HuGene1.1ST.CEL.gz | 33297 | 56 | idiopathic dilated CMP | male   | yes | heart left ventricle |\n",
       "| GSM1379813 | C02066 Ischemic Left Ventricle               | GSM1379813 | Public on Jan 01 2015 | May 06 2014 | Jan 01 2015 | RNA | 1 | heart left ventricle, ischemic               | Homo sapiens | tissue: heart left ventricle | ⋯ | PA | 19104 | USA | ftp://ftp.ncbi.nlm.nih.gov/geo/samples/GSM1379nnn/GSM1379813/suppl/GSM1379813_C02066_HuGene1.1ST.CEL.gz | 33297 | 62 | ischemic               | female | yes | heart left ventricle |\n",
       "| GSM1379814 | C02070 Ischemic Left Ventricle               | GSM1379814 | Public on Jan 01 2015 | May 06 2014 | Jan 01 2015 | RNA | 1 | heart left ventricle, ischemic               | Homo sapiens | tissue: heart left ventricle | ⋯ | PA | 19104 | USA | ftp://ftp.ncbi.nlm.nih.gov/geo/samples/GSM1379nnn/GSM1379814/suppl/GSM1379814_C02070_HuGene1.1ST.CEL.gz | 33297 | 62 | ischemic               | male   | yes | heart left ventricle |\n",
       "| GSM1379815 | C02071 Ischemic Left Ventricle               | GSM1379815 | Public on Jan 01 2015 | May 06 2014 | Jan 01 2015 | RNA | 1 | heart left ventricle, ischemic               | Homo sapiens | tissue: heart left ventricle | ⋯ | PA | 19104 | USA | ftp://ftp.ncbi.nlm.nih.gov/geo/samples/GSM1379nnn/GSM1379815/suppl/GSM1379815_C02071_HuGene1.1ST.CEL.gz | 33297 | 51 | ischemic               | male   | yes | heart left ventricle |\n",
       "| GSM1379816 | C02085 Idiopathic Dilated CMP Left Ventricle | GSM1379816 | Public on Jan 01 2015 | May 06 2014 | Jan 01 2015 | RNA | 1 | heart left ventricle, idiopathic dilated CMP | Homo sapiens | tissue: heart left ventricle | ⋯ | PA | 19104 | USA | ftp://ftp.ncbi.nlm.nih.gov/geo/samples/GSM1379nnn/GSM1379816/suppl/GSM1379816_C02085_HuGene1.1ST.CEL.gz | 33297 | 51 | idiopathic dilated CMP | male   | yes | heart left ventricle |\n",
       "| GSM1379817 | C02086 Idiopathic Dilated CMP Left Ventricle | GSM1379817 | Public on Jan 01 2015 | May 06 2014 | Jan 01 2015 | RNA | 1 | heart left ventricle, idiopathic dilated CMP | Homo sapiens | tissue: heart left ventricle | ⋯ | PA | 19104 | USA | ftp://ftp.ncbi.nlm.nih.gov/geo/samples/GSM1379nnn/GSM1379817/suppl/GSM1379817_C02086_HuGene1.1ST.CEL.gz | 33297 | 32 | idiopathic dilated CMP | male   | yes | heart left ventricle |\n",
       "\n"
      ],
      "text/plain": [
       "           title                                        geo_accession\n",
       "GSM1379812 C02065 Idiopathic Dilated CMP Left Ventricle GSM1379812   \n",
       "GSM1379813 C02066 Ischemic Left Ventricle               GSM1379813   \n",
       "GSM1379814 C02070 Ischemic Left Ventricle               GSM1379814   \n",
       "GSM1379815 C02071 Ischemic Left Ventricle               GSM1379815   \n",
       "GSM1379816 C02085 Idiopathic Dilated CMP Left Ventricle GSM1379816   \n",
       "GSM1379817 C02086 Idiopathic Dilated CMP Left Ventricle GSM1379817   \n",
       "           status                submission_date last_update_date type\n",
       "GSM1379812 Public on Jan 01 2015 May 06 2014     Jan 01 2015      RNA \n",
       "GSM1379813 Public on Jan 01 2015 May 06 2014     Jan 01 2015      RNA \n",
       "GSM1379814 Public on Jan 01 2015 May 06 2014     Jan 01 2015      RNA \n",
       "GSM1379815 Public on Jan 01 2015 May 06 2014     Jan 01 2015      RNA \n",
       "GSM1379816 Public on Jan 01 2015 May 06 2014     Jan 01 2015      RNA \n",
       "GSM1379817 Public on Jan 01 2015 May 06 2014     Jan 01 2015      RNA \n",
       "           channel_count source_name_ch1                             \n",
       "GSM1379812 1             heart left ventricle, idiopathic dilated CMP\n",
       "GSM1379813 1             heart left ventricle, ischemic              \n",
       "GSM1379814 1             heart left ventricle, ischemic              \n",
       "GSM1379815 1             heart left ventricle, ischemic              \n",
       "GSM1379816 1             heart left ventricle, idiopathic dilated CMP\n",
       "GSM1379817 1             heart left ventricle, idiopathic dilated CMP\n",
       "           organism_ch1 characteristics_ch1          ⋯ contact_state\n",
       "GSM1379812 Homo sapiens tissue: heart left ventricle ⋯ PA           \n",
       "GSM1379813 Homo sapiens tissue: heart left ventricle ⋯ PA           \n",
       "GSM1379814 Homo sapiens tissue: heart left ventricle ⋯ PA           \n",
       "GSM1379815 Homo sapiens tissue: heart left ventricle ⋯ PA           \n",
       "GSM1379816 Homo sapiens tissue: heart left ventricle ⋯ PA           \n",
       "GSM1379817 Homo sapiens tissue: heart left ventricle ⋯ PA           \n",
       "           contact_zip/postal_code contact_country\n",
       "GSM1379812 19104                   USA            \n",
       "GSM1379813 19104                   USA            \n",
       "GSM1379814 19104                   USA            \n",
       "GSM1379815 19104                   USA            \n",
       "GSM1379816 19104                   USA            \n",
       "GSM1379817 19104                   USA            \n",
       "           supplementary_file                                                                                     \n",
       "GSM1379812 ftp://ftp.ncbi.nlm.nih.gov/geo/samples/GSM1379nnn/GSM1379812/suppl/GSM1379812_C02065_HuGene1.1ST.CEL.gz\n",
       "GSM1379813 ftp://ftp.ncbi.nlm.nih.gov/geo/samples/GSM1379nnn/GSM1379813/suppl/GSM1379813_C02066_HuGene1.1ST.CEL.gz\n",
       "GSM1379814 ftp://ftp.ncbi.nlm.nih.gov/geo/samples/GSM1379nnn/GSM1379814/suppl/GSM1379814_C02070_HuGene1.1ST.CEL.gz\n",
       "GSM1379815 ftp://ftp.ncbi.nlm.nih.gov/geo/samples/GSM1379nnn/GSM1379815/suppl/GSM1379815_C02071_HuGene1.1ST.CEL.gz\n",
       "GSM1379816 ftp://ftp.ncbi.nlm.nih.gov/geo/samples/GSM1379nnn/GSM1379816/suppl/GSM1379816_C02085_HuGene1.1ST.CEL.gz\n",
       "GSM1379817 ftp://ftp.ncbi.nlm.nih.gov/geo/samples/GSM1379nnn/GSM1379817/suppl/GSM1379817_C02086_HuGene1.1ST.CEL.gz\n",
       "           data_row_count age:ch1 disease status:ch1     gender:ch1\n",
       "GSM1379812 33297          56      idiopathic dilated CMP male      \n",
       "GSM1379813 33297          62      ischemic               female    \n",
       "GSM1379814 33297          62      ischemic               male      \n",
       "GSM1379815 33297          51      ischemic               male      \n",
       "GSM1379816 33297          51      idiopathic dilated CMP male      \n",
       "GSM1379817 33297          32      idiopathic dilated CMP male      \n",
       "           heart failure:ch1 tissue:ch1          \n",
       "GSM1379812 yes               heart left ventricle\n",
       "GSM1379813 yes               heart left ventricle\n",
       "GSM1379814 yes               heart left ventricle\n",
       "GSM1379815 yes               heart left ventricle\n",
       "GSM1379816 yes               heart left ventricle\n",
       "GSM1379817 yes               heart left ventricle"
      ]
     },
     "metadata": {},
     "output_type": "display_data"
    }
   ],
   "source": [
    "head(pData(phenoData(GSE57338)))"
   ]
  },
  {
   "cell_type": "markdown",
   "id": "8a89f2dd-7472-472e-95d4-bbe8ff2b8694",
   "metadata": {},
   "source": [
    "Feature Data\n",
    "Similarly, to check information about the features (genes), you can use the fData() function."
   ]
  },
  {
   "cell_type": "code",
   "execution_count": null,
   "id": "ba8ff913-37b9-4f3d-aa45-1514d72cddac",
   "metadata": {},
   "outputs": [],
   "source": []
  },
  {
   "cell_type": "code",
   "execution_count": 15,
   "id": "0e8bd692-a4be-4fad-bae6-1d5aef18d17d",
   "metadata": {},
   "outputs": [
    {
     "data": {
      "text/html": [
       "<table class=\"dataframe\">\n",
       "<caption>A data.frame: 6 × 0</caption>\n",
       "<tbody>\n",
       "\t<tr><th scope=row>7892501</th></tr>\n",
       "\t<tr><th scope=row>7892502</th></tr>\n",
       "\t<tr><th scope=row>7892503</th></tr>\n",
       "\t<tr><th scope=row>7892504</th></tr>\n",
       "\t<tr><th scope=row>7892505</th></tr>\n",
       "\t<tr><th scope=row>7892506</th></tr>\n",
       "</tbody>\n",
       "</table>\n"
      ],
      "text/latex": [
       "A data.frame: 6 × 0\n",
       "\\begin{tabular}{r|}\n",
       "\t7892501\\\\\n",
       "\t7892502\\\\\n",
       "\t7892503\\\\\n",
       "\t7892504\\\\\n",
       "\t7892505\\\\\n",
       "\t7892506\\\\\n",
       "\\end{tabular}\n"
      ],
      "text/markdown": [
       "\n",
       "A data.frame: 6 × 0\n",
       "\n",
       "| 7892501 |\n",
       "| 7892502 |\n",
       "| 7892503 |\n",
       "| 7892504 |\n",
       "| 7892505 |\n",
       "| 7892506 |\n",
       "\n"
      ],
      "text/plain": [
       "       \n",
       "7892501\n",
       "7892502\n",
       "7892503\n",
       "7892504\n",
       "7892505\n",
       "7892506"
      ]
     },
     "metadata": {},
     "output_type": "display_data"
    }
   ],
   "source": [
    "head(pData(featureData(GSE57338)))"
   ]
  },
  {
   "cell_type": "code",
   "execution_count": null,
   "id": "0c8055d5-9dbb-4b84-b9af-0f4a2e4ca79d",
   "metadata": {},
   "outputs": [],
   "source": []
  },
  {
   "cell_type": "markdown",
   "id": "ad80aa15-4e3b-4289-a266-c391f7c2600b",
   "metadata": {},
   "source": [
    "## 1.3 PCA"
   ]
  },
  {
   "cell_type": "code",
   "execution_count": 16,
   "id": "e8bbe463-b264-416c-981a-00c26d449558",
   "metadata": {},
   "outputs": [
    {
     "data": {
      "image/png": "[encoded data removed]",
      "text/plain": [
       "plot without title"
      ]
     },
     "metadata": {
      "image/png": {
       "height": 420,
       "width": 420
      }
     },
     "output_type": "display_data"
    }
   ],
   "source": [
    "library(ggplot2)\n",
    "data <- exprs(GSE57338)\n",
    "pca <- prcomp(t(data), scale. = TRUE)\n",
    "df_pca <- data.frame(PC1 = pca$x[,1], PC2 = pca$x[,2], Sample = colnames(data))\n",
    "ggplot(df_pca, aes(x = PC1, y = PC2, label = Sample)) + geom_text() + xlab(\"PCA 1\") + ylab(\"PCA 2\") + ggtitle(\"PCA of GSE57338\")\n"
   ]
  },
  {
   "cell_type": "code",
   "execution_count": null,
   "id": "88939ae5-8ed7-473b-8a22-dbc94cfb4478",
   "metadata": {},
   "outputs": [],
   "source": []
  },
  {
   "cell_type": "code",
   "execution_count": null,
   "id": "34bca567-4a46-4c79-9c15-ba5f3507c6c5",
   "metadata": {},
   "outputs": [],
   "source": []
  },
  {
   "cell_type": "markdown",
   "id": "b897b680-e02e-4d5f-a6be-2fe4d2631776",
   "metadata": {},
   "source": [
    "# 2 Differential Expression Analysis"
   ]
  },
  {
   "cell_type": "code",
   "execution_count": null,
   "id": "659840a8-adff-4579-91ff-9b7e3b1cca9e",
   "metadata": {},
   "outputs": [],
   "source": []
  },
  {
   "cell_type": "code",
   "execution_count": null,
   "id": "38923069-437c-4797-81e0-5517ed3ac035",
   "metadata": {},
   "outputs": [],
   "source": []
  },
  {
   "cell_type": "code",
   "execution_count": null,
   "id": "374e2057-253a-485e-9103-64e152697ff6",
   "metadata": {},
   "outputs": [],
   "source": []
  },
  {
   "cell_type": "code",
   "execution_count": null,
   "id": "f8fc9b66-35f9-4857-9003-659dcf52ea8f",
   "metadata": {},
   "outputs": [],
   "source": []
  },
  {
   "cell_type": "code",
   "execution_count": null,
   "id": "2808252a-a3f7-4a60-ba0e-565c23f7945e",
   "metadata": {},
   "outputs": [],
   "source": []
  },
  {
   "cell_type": "code",
   "execution_count": null,
   "id": "dd6f74ab-82ce-4ec2-bf6e-4c39147a55dc",
   "metadata": {},
   "outputs": [],
   "source": []
  },
  {
   "cell_type": "code",
   "execution_count": null,
   "id": "fd48e05c-0796-4d8f-aea5-c0f7dcc62a7a",
   "metadata": {},
   "outputs": [],
   "source": []
  },
  {
   "cell_type": "markdown",
   "id": "ca53f788-c4da-4221-be4c-1684d87191ec",
   "metadata": {},
   "source": [
    "# 3 WGCNA"
   ]
  },
  {
   "cell_type": "code",
   "execution_count": null,
   "id": "05ca1fae-3721-4174-a789-5017b73e62db",
   "metadata": {},
   "outputs": [],
   "source": []
  },
  {
   "cell_type": "code",
   "execution_count": null,
   "id": "49227766-0f94-4989-89e2-c884267c7f09",
   "metadata": {},
   "outputs": [],
   "source": []
  },
  {
   "cell_type": "code",
   "execution_count": null,
   "id": "e2862b6c-694a-4b3a-95eb-cee902187536",
   "metadata": {},
   "outputs": [],
   "source": []
  },
  {
   "cell_type": "code",
   "execution_count": null,
   "id": "27b84a04-64ef-416f-a272-f2f87207cc94",
   "metadata": {},
   "outputs": [],
   "source": []
  },
  {
   "cell_type": "code",
   "execution_count": null,
   "id": "d83afa26-f16f-4d62-8cec-e6ff194aa754",
   "metadata": {},
   "outputs": [],
   "source": []
  },
  {
   "cell_type": "markdown",
   "id": "a097d1bb-ba46-4f94-9cb6-acc64d0f9dc1",
   "metadata": {},
   "source": [
    "# 4 Functional Enrichment Analysis (GO+KEGG)"
   ]
  },
  {
   "cell_type": "code",
   "execution_count": null,
   "id": "136131a8-7b12-4dca-ab1e-187e88f780aa",
   "metadata": {},
   "outputs": [],
   "source": []
  },
  {
   "cell_type": "code",
   "execution_count": null,
   "id": "da1a6fd4-a1ba-4159-9b7c-94b21e0282b0",
   "metadata": {},
   "outputs": [],
   "source": []
  },
  {
   "cell_type": "code",
   "execution_count": null,
   "id": "b226b018-dd65-467d-8909-992279b2b6d4",
   "metadata": {},
   "outputs": [],
   "source": []
  },
  {
   "cell_type": "code",
   "execution_count": null,
   "id": "d4166979-b814-47cf-b671-0099c31edec2",
   "metadata": {},
   "outputs": [],
   "source": []
  },
  {
   "cell_type": "code",
   "execution_count": null,
   "id": "60185396-f048-4bcb-bb30-a5003bdfc3aa",
   "metadata": {},
   "outputs": [],
   "source": []
  },
  {
   "cell_type": "markdown",
   "id": "64f6feb3-afed-45b1-b802-6264a6d3972f",
   "metadata": {},
   "source": [
    "# 5 Hub Genes Identification and Validation"
   ]
  },
  {
   "cell_type": "code",
   "execution_count": null,
   "id": "f79f71f3-7f3f-4c87-8c74-997447675883",
   "metadata": {},
   "outputs": [],
   "source": []
  },
  {
   "cell_type": "code",
   "execution_count": null,
   "id": "7a82e2d9-97bd-4f45-8085-b7984e1b18f0",
   "metadata": {},
   "outputs": [],
   "source": []
  },
  {
   "cell_type": "code",
   "execution_count": null,
   "id": "6ffde6b5-6ad3-49d6-abf9-d724a661685c",
   "metadata": {},
   "outputs": [],
   "source": []
  },
  {
   "cell_type": "code",
   "execution_count": null,
   "id": "189a89be-129c-4abd-b786-019c0458f4a6",
   "metadata": {},
   "outputs": [],
   "source": []
  },
  {
   "cell_type": "code",
   "execution_count": null,
   "id": "489ed6b0-a3d8-40cb-84c6-70b59576c865",
   "metadata": {},
   "outputs": [],
   "source": []
  },
  {
   "cell_type": "code",
   "execution_count": null,
   "id": "a40a9aae-c492-432d-8d75-a5b5a5c5212f",
   "metadata": {},
   "outputs": [],
   "source": []
  },
  {
   "cell_type": "markdown",
   "id": "723b0512-bf87-4d49-9c0a-a1bed381e013",
   "metadata": {},
   "source": [
    "# 6 Integrate"
   ]
  },
  {
   "cell_type": "code",
   "execution_count": null,
   "id": "7f8b73bc-3402-4dbb-9d54-6c643ea4b92c",
   "metadata": {},
   "outputs": [],
   "source": []
  },
  {
   "cell_type": "code",
   "execution_count": null,
   "id": "77e26b1d-fcd7-4de1-ab4c-aa145dff578e",
   "metadata": {},
   "outputs": [],
   "source": []
  },
  {
   "cell_type": "code",
   "execution_count": null,
   "id": "b65ae549-15f6-4133-abc8-92fee0aafe13",
   "metadata": {},
   "outputs": [],
   "source": []
  },
  {
   "cell_type": "code",
   "execution_count": null,
   "id": "e5a92ef9-76bb-4d80-ac25-f8e15219d970",
   "metadata": {},
   "outputs": [],
   "source": []
  },
  {
   "cell_type": "code",
   "execution_count": null,
   "id": "95be79da-9eb7-4309-bb5c-658ace83f17e",
   "metadata": {},
   "outputs": [],
   "source": []
  },
  {
   "cell_type": "code",
   "execution_count": null,
   "id": "a433b159-894d-4670-835b-1bec62f9c0f4",
   "metadata": {},
   "outputs": [],
   "source": []
  },
  {
   "cell_type": "code",
   "execution_count": null,
   "id": "85ee012e-765c-4763-b57f-e07c794f1d61",
   "metadata": {},
   "outputs": [],
   "source": []
  },
  {
   "cell_type": "code",
   "execution_count": null,
   "id": "8bd89f4b-ecb1-43e6-8e9f-bd6acb49c4c2",
   "metadata": {},
   "outputs": [],
   "source": []
  },
  {
   "cell_type": "code",
   "execution_count": null,
   "id": "0ea1518b-ca6b-4283-8c39-dbd2d03a8ea6",
   "metadata": {},
   "outputs": [],
   "source": []
  },
  {
   "cell_type": "code",
   "execution_count": null,
   "id": "d50e8985-3b4f-44fc-a124-f3e421fd22f1",
   "metadata": {},
   "outputs": [],
   "source": []
  },
  {
   "cell_type": "code",
   "execution_count": null,
   "id": "1f7b3f82-89e4-4b31-bfe3-4e41f0af24f3",
   "metadata": {},
   "outputs": [],
   "source": []
  },
  {
   "cell_type": "code",
   "execution_count": null,
   "id": "055ebb65-1f9a-4a33-9a6a-410c28166b47",
   "metadata": {},
   "outputs": [],
   "source": []
  },
  {
   "cell_type": "code",
   "execution_count": null,
   "id": "4ea46b6a-6970-486a-ace6-ce971ec779c5",
   "metadata": {},
   "outputs": [],
   "source": []
  },
  {
   "cell_type": "code",
   "execution_count": null,
   "id": "74dce0d9-b096-4ae7-88c1-289904ea54c0",
   "metadata": {},
   "outputs": [],
   "source": []
  },
  {
   "cell_type": "code",
   "execution_count": null,
   "id": "6a347790-86f0-4474-8e61-76139709026e",
   "metadata": {},
   "outputs": [],
   "source": []
  },
  {
   "cell_type": "code",
   "execution_count": null,
   "id": "ddb01065-01a8-4eb8-8e88-51158e2b517a",
   "metadata": {},
   "outputs": [],
   "source": []
  },
  {
   "cell_type": "code",
   "execution_count": null,
   "id": "80b4a78c-d276-4d2c-9538-9388d403d670",
   "metadata": {},
   "outputs": [],
   "source": []
  },
  {
   "cell_type": "code",
   "execution_count": null,
   "id": "15582b20-934a-4cb7-8699-95f0363e9d83",
   "metadata": {},
   "outputs": [],
   "source": []
  },
  {
   "cell_type": "code",
   "execution_count": null,
   "id": "772da1e9-5dcf-4bf2-aabc-c4ac30358b1f",
   "metadata": {},
   "outputs": [],
   "source": []
  },
  {
   "cell_type": "code",
   "execution_count": null,
   "id": "1ebdb035-34e9-4b82-996f-fa505253ffb1",
   "metadata": {},
   "outputs": [],
   "source": []
  },
  {
   "cell_type": "code",
   "execution_count": null,
   "id": "a5708645-9316-4f74-bfc8-8e6504163c83",
   "metadata": {},
   "outputs": [],
   "source": []
  },
  {
   "cell_type": "code",
   "execution_count": null,
   "id": "1d681f70-f34e-4c14-9744-d14d7fe1e655",
   "metadata": {},
   "outputs": [],
   "source": []
  },
  {
   "cell_type": "code",
   "execution_count": null,
   "id": "16538226-1d0c-427d-a497-7ba2eb49c113",
   "metadata": {},
   "outputs": [],
   "source": []
  },
  {
   "cell_type": "code",
   "execution_count": null,
   "id": "541c184d-7fa0-4204-b9d3-4a102fc8e2b9",
   "metadata": {},
   "outputs": [],
   "source": []
  },
  {
   "cell_type": "code",
   "execution_count": null,
   "id": "b6cfdfc2-7772-4bab-9083-a8c67c0b181c",
   "metadata": {},
   "outputs": [],
   "source": []
  },
  {
   "cell_type": "code",
   "execution_count": null,
   "id": "f33cbb1b-3f14-45b4-9081-caff6b2b0de0",
   "metadata": {},
   "outputs": [],
   "source": []
  },
  {
   "cell_type": "code",
   "execution_count": null,
   "id": "c7f611b6-f648-40e0-88e7-15fbe6735a3b",
   "metadata": {},
   "outputs": [],
   "source": []
  },
  {
   "cell_type": "code",
   "execution_count": null,
   "id": "c5353d66-a662-4766-981b-73fab6093481",
   "metadata": {},
   "outputs": [],
   "source": []
  },
  {
   "cell_type": "code",
   "execution_count": null,
   "id": "bd712b01-bb03-4b69-9799-3be4e7528d8b",
   "metadata": {},
   "outputs": [],
   "source": []
  },
  {
   "cell_type": "code",
   "execution_count": null,
   "id": "78de8ea0-63a7-4533-a086-9de36769be1c",
   "metadata": {},
   "outputs": [],
   "source": []
  },
  {
   "cell_type": "code",
   "execution_count": null,
   "id": "802d3252-62ad-448d-9801-de39013298f8",
   "metadata": {},
   "outputs": [],
   "source": []
  },
  {
   "cell_type": "code",
   "execution_count": null,
   "id": "8aa78d6d-5e28-4005-95dd-33049d316592",
   "metadata": {},
   "outputs": [],
   "source": []
  },
  {
   "cell_type": "code",
   "execution_count": null,
   "id": "07736040-2fbc-4f1a-b9bb-b4d8f2e1b005",
   "metadata": {},
   "outputs": [],
   "source": []
  },
  {
   "cell_type": "code",
   "execution_count": null,
   "id": "01057a2b-2173-4f3d-9944-5d0003d7f841",
   "metadata": {},
   "outputs": [],
   "source": []
  },
  {
   "cell_type": "code",
   "execution_count": null,
   "id": "4b85acd0-43e5-4776-aad4-ab2ec3aecc74",
   "metadata": {},
   "outputs": [],
   "source": []
  },
  {
   "cell_type": "code",
   "execution_count": null,
   "id": "b8ea8058-5d82-4a0a-91ce-f45e9ffbbd45",
   "metadata": {},
   "outputs": [],
   "source": []
  },
  {
   "cell_type": "code",
   "execution_count": null,
   "id": "4e3a2f83-7d7b-4c91-afbe-2ff11953114f",
   "metadata": {},
   "outputs": [],
   "source": []
  },
  {
   "cell_type": "code",
   "execution_count": null,
   "id": "126b559f-51ef-49ed-8413-19de11eb3cee",
   "metadata": {},
   "outputs": [],
   "source": []
  },
  {
   "cell_type": "code",
   "execution_count": null,
   "id": "806b44ab-022c-4033-beea-e3c14f77bfef",
   "metadata": {},
   "outputs": [],
   "source": []
  },
  {
   "cell_type": "code",
   "execution_count": null,
   "id": "a0238f9e-3166-43ca-b8ca-f21ee09aa4a3",
   "metadata": {},
   "outputs": [],
   "source": []
  },
  {
   "cell_type": "code",
   "execution_count": null,
   "id": "c4241212-41ae-4f56-9dc3-d606ccb9cb8c",
   "metadata": {},
   "outputs": [],
   "source": []
  }
 ],
 "metadata": {
  "kernelspec": {
   "display_name": "R",
   "language": "R",
   "name": "ir"
  },
  "language_info": {
   "codemirror_mode": "r",
   "file_extension": ".r",
   "mimetype": "text/x-r-source",
   "name": "R",
   "pygments_lexer": "r",
   "version": "4.3.2"
  }
 },
 "nbformat": 4,
 "nbformat_minor": 5
}
